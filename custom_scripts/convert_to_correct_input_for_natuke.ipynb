{
 "cells": [
  {
   "cell_type": "code",
   "id": "initial_id",
   "metadata": {
    "collapsed": true,
    "ExecuteTime": {
     "end_time": "2024-04-10T14:50:36.044641Z",
     "start_time": "2024-04-10T14:50:36.039985Z"
    }
   },
   "source": [
    "import pandas as pd\n"
   ],
   "outputs": [],
   "execution_count": 9
  },
  {
   "cell_type": "code",
   "source": [
    "df = pd.read_csv(\"/home/p.froehlich/PycharmProjects/natuke/gpt_output/consolidated_output_full.csv\")"
   ],
   "metadata": {
    "collapsed": false,
    "ExecuteTime": {
     "end_time": "2024-04-10T14:50:36.469151Z",
     "start_time": "2024-04-10T14:50:36.458374Z"
    }
   },
   "id": "7d2e072c16c6c90d",
   "outputs": [],
   "execution_count": 10
  },
  {
   "cell_type": "code",
   "source": [
    "# Remove 'pdfs/' and '.pdf from the 'doi' column\n",
    "df['doi'] = df['doi'].str.replace('pdfs/', '')\n",
    "df['doi'] = df['doi'].str.replace('.pdf', '')\n",
    "df['text'] = df['text'].str.replace('IUPAC_nomenclature', 'name')\n",
    "df['text'] = df['text'].str.replace('collectionSpecies', 'collectionSpecie')\n",
    "\n",
    "# Remove 'pdfs/' from the 'file_name' column\n",
    "df['file_name'] = df['file_name'].str.replace('pdfs/', '')"
   ],
   "metadata": {
    "collapsed": false,
    "ExecuteTime": {
     "end_time": "2024-04-10T14:50:36.932333Z",
     "start_time": "2024-04-10T14:50:36.918162Z"
    }
   },
   "id": "b2c6233a1a0d9104",
   "outputs": [
    {
     "name": "stderr",
     "output_type": "stream",
     "text": [
      "/tmp/ipykernel_121590/18689682.py:3: FutureWarning: The default value of regex will change from True to False in a future version.\n",
      "  df['doi'] = df['doi'].str.replace('.pdf', '')\n"
     ]
    }
   ],
   "execution_count": 11
  },
  {
   "cell_type": "code",
   "source": [
    "# Save the modified DataFrame back to a CSV file\n",
    "df.to_csv('/home/p.froehlich/PycharmProjects/natuke/gpt_output/converted_gpt_output.csv', index=False)"
   ],
   "metadata": {
    "collapsed": false,
    "ExecuteTime": {
     "end_time": "2024-04-10T14:50:37.394016Z",
     "start_time": "2024-04-10T14:50:37.380463Z"
    }
   },
   "id": "40e0be0a7cb259c3",
   "outputs": [],
   "execution_count": 12
  },
  {
   "cell_type": "code",
   "outputs": [],
   "source": [],
   "metadata": {
    "collapsed": false
   },
   "id": "fdd65cac161d3a94",
   "execution_count": null
  }
 ],
 "metadata": {
  "kernelspec": {
   "display_name": "Python 3",
   "language": "python",
   "name": "python3"
  },
  "language_info": {
   "codemirror_mode": {
    "name": "ipython",
    "version": 2
   },
   "file_extension": ".py",
   "mimetype": "text/x-python",
   "name": "python",
   "nbconvert_exporter": "python",
   "pygments_lexer": "ipython2",
   "version": "2.7.6"
  }
 },
 "nbformat": 4,
 "nbformat_minor": 5
}
