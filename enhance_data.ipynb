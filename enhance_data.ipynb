{
 "cells": [
  {
   "cell_type": "code",
   "execution_count": 5,
   "metadata": {},
   "outputs": [],
   "source": [
    "import csv\n",
    "import ast\n",
    "import os\n",
    "import re\n",
    "\n",
    "def remove_duplicates_from_restored(file_path):\n",
    "    with open(file_path, mode='r+', newline='', encoding='utf-8') as file:\n",
    "        reader = csv.DictReader(file)\n",
    "        fieldnames = reader.fieldnames\n",
    "        rows = list(reader)\n",
    "        \n",
    "        file.seek(0)\n",
    "        writer = csv.DictWriter(file, fieldnames=fieldnames, quoting=csv.QUOTE_ALL)\n",
    "        writer.writeheader()\n",
    "        \n",
    "        for row in rows:\n",
    "            restored = ast.literal_eval(row['restored'])\n",
    "            if len(restored) > 1 and isinstance(restored[1], list):\n",
    "                # Deduplicate the nested list while preserving the order\n",
    "                deduplicated_list = list(dict.fromkeys(restored[1]))\n",
    "                # Update the 'restored' field with the deduplicated list\n",
    "                row['restored'] = str([restored[0], deduplicated_list])\n",
    "            writer.writerow(row)\n",
    "        \n",
    "        file.truncate()\n",
    "\n",
    "# Iterate through all files in the directory\n",
    "directory = 'results/LLM_enhanced/'\n",
    "pattern = re.compile(r'llm_results_gpt4_0.8_doi_collectionSite_\\d+_\\d+(?:st|nd|rd|th)\\.csv')\n",
    "\n",
    "for filename in os.listdir(directory):\n",
    "    if pattern.match(filename):\n",
    "        file_path = os.path.join(directory, filename)\n",
    "        remove_duplicates_from_restored(file_path)\n"
   ]
  }
 ],
 "metadata": {
  "kernelspec": {
   "display_name": "Python 3",
   "language": "python",
   "name": "python3"
  },
  "language_info": {
   "codemirror_mode": {
    "name": "ipython",
    "version": 3
   },
   "file_extension": ".py",
   "mimetype": "text/x-python",
   "name": "python",
   "nbconvert_exporter": "python",
   "pygments_lexer": "ipython3",
   "version": "3.9.6"
  }
 },
 "nbformat": 4,
 "nbformat_minor": 2
}
