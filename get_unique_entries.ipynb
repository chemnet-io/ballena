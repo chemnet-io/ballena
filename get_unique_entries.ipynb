{
 "cells": [
  {
   "cell_type": "code",
   "execution_count": 1,
   "metadata": {},
   "outputs": [],
   "source": [
    "import os\n",
    "import pandas as pd\n",
    "\n",
    "# Directory containing the files\n",
    "directory = 'splits'\n",
    "output_directory = 'faiss_index'\n",
    "\n",
    "# Ensure the output directory exists\n",
    "os.makedirs(output_directory, exist_ok=True)\n",
    "\n",
    "# List of attributes to process\n",
    "attributes = ['bioActivity', 'collectionSite', 'collectionSpecie', 'collecitionType', 'name']\n",
    "\n",
    "for attribute in attributes:\n",
    "    # Initialize a set to store unique neighbor entries\n",
    "    unique_neighbors = set()\n",
    "\n",
    "    # Iterate over all files in the directory\n",
    "    for filename in os.listdir(directory):\n",
    "        if filename.startswith(f\"test_doi_{attribute}\") or filename.startswith(f\"train_doi_{attribute}\"):\n",
    "            filepath = os.path.join(directory, filename)\n",
    "            # Read the CSV file\n",
    "            df = pd.read_csv(filepath)\n",
    "            # Add unique neighbor entries to the set\n",
    "            unique_neighbors.update(df['neighbor'].unique())\n",
    "\n",
    "    # Save the unique neighbors to a text file\n",
    "    with open(os.path.join(output_directory, f'unique_{attribute}.txt'), 'w') as f:\n",
    "        for neighbor in sorted(unique_neighbors):\n",
    "            f.write(f\"{neighbor}\\n\")\n"
   ]
  },
  {
   "cell_type": "code",
   "execution_count": null,
   "metadata": {},
   "outputs": [],
   "source": []
  }
 ],
 "metadata": {
  "kernelspec": {
   "display_name": "Python 3",
   "language": "python",
   "name": "python3"
  },
  "language_info": {
   "codemirror_mode": {
    "name": "ipython",
    "version": 3
   },
   "file_extension": ".py",
   "mimetype": "text/x-python",
   "name": "python",
   "nbconvert_exporter": "python",
   "pygments_lexer": "ipython3",
   "version": "3.9.6"
  }
 },
 "nbformat": 4,
 "nbformat_minor": 2
}
