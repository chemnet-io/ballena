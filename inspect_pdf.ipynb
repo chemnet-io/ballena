{
 "cells": [
  {
   "cell_type": "markdown",
   "id": "0",
   "metadata": {},
   "source": [
    "#### Extracting text from PDFs"
   ]
  },
  {
   "cell_type": "code",
   "execution_count": null,
   "id": "1",
   "metadata": {},
   "outputs": [],
   "source": [
    "import PyPDF2\n",
    "import openai\n",
    "\n",
    "# Step 1: Load the PDF document into chunks\n",
    "loader = PyPDF2.PdfReader(\"pdfs/10.1002@bmc.1155.pdf\")\n",
    "# Step 1.1: read the document and print content of the first page\n",
    "print(loader.pages[0].extract_text())"
   ]
  },
  {
   "cell_type": "code",
   "execution_count": null,
   "id": "2",
   "metadata": {},
   "outputs": [],
   "source": [
    "# Step 1.2: Count the number of words in the page and print the count of letters\n",
    "print(\"Words: \" + len(loader.pages[0].extract_text().split()).__str__())\n",
    "print(\"Letters: \" + len(loader.pages[0].extract_text()).__str__())\n"
   ]
  },
  {
   "cell_type": "code",
   "execution_count": null,
   "id": "3",
   "metadata": {},
   "outputs": [],
   "source": [
    "# Step 1.3: print the whole document\n",
    "for page in loader.pages:\n",
    "    print(page.extract_text())\n"
   ]
  },
  {
   "cell_type": "code",
   "execution_count": null,
   "id": "4",
   "metadata": {},
   "outputs": [],
   "source": [
    "# Step 1.4: count the number of words and the number of letters in the whole document\n",
    "print(\"Words: \" + len(\"\".join([page.extract_text() for page in loader.pages]).split()).__str__())\n",
    "print(\"Letters: \" + len(\"\".join([page.extract_text() for page in loader.pages])).__str__())"
   ]
  },
  {
   "cell_type": "code",
   "execution_count": null,
   "id": "5",
   "metadata": {},
   "outputs": [],
   "source": [
    "# Step 2: Split the text into chunks of n words each\n",
    "def split_text_by_words_approx(text, max_words_per_chunk=5):\n",
    "    words = text.split()\n",
    "    chunks = []\n",
    "    current_chunk = []\n",
    "\n",
    "    for word in words:\n",
    "        current_chunk.append(word)\n",
    "        if len(current_chunk) >= max_words_per_chunk:\n",
    "            chunks.append(' '.join(current_chunk))\n",
    "            current_chunk = []\n",
    "\n",
    "    # Add any remaining words in the last chunk\n",
    "    if current_chunk:\n",
    "        chunks.append(' '.join(current_chunk))\n",
    "\n",
    "    return chunks\n",
    "\n",
    "text = \"\".join([page.extract_text() for page in loader.pages])\n",
    "chunks = split_text_by_words_approx(text, 500)\n",
    "print(chunks)\n"
   ]
  }
 ],
 "metadata": {
  "kernelspec": {
   "display_name": "Python 3",
   "language": "python",
   "name": "python3"
  },
  "language_info": {
   "codemirror_mode": {
    "name": "ipython",
    "version": 2
   },
   "file_extension": ".py",
   "mimetype": "text/x-python",
   "name": "python",
   "nbconvert_exporter": "python",
   "pygments_lexer": "ipython2",
   "version": "2.7.6"
  }
 },
 "nbformat": 4,
 "nbformat_minor": 5
}
