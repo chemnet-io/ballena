{
 "cells": [
  {
   "cell_type": "code",
   "execution_count": 3,
   "id": "75ad69972aebd780",
   "metadata": {
    "ExecuteTime": {
     "end_time": "2024-03-10T12:55:14.742964Z",
     "start_time": "2024-03-10T12:55:14.589625Z"
    },
    "collapsed": false
   },
   "outputs": [
    {
     "data": {
      "text/plain": [
       "True"
      ]
     },
     "execution_count": 3,
     "metadata": {},
     "output_type": "execute_result"
    }
   ],
   "source": [
    "import os\n",
    "\n",
    "from dotenv import load_dotenv\n",
    "from langchain.document_loaders import PyPDFLoader\n",
    "from langchain.vectorstores import FAISS\n",
    "from langchain_openai import OpenAIEmbeddings\n",
    "\n",
    "load_dotenv()"
   ]
  },
  {
   "cell_type": "code",
   "execution_count": 4,
   "id": "bb8c89b0-ce16-4e6c-b340-2fa5988024df",
   "metadata": {},
   "outputs": [],
   "source": [
    "!export PYTHONWARNINGS=\"ignore:NotOpenSSLWarning\""
   ]
  },
  {
   "cell_type": "code",
   "execution_count": 5,
   "id": "a5becf6d2a96776c",
   "metadata": {
    "ExecuteTime": {
     "end_time": "2024-03-10T12:55:15.958017Z",
     "start_time": "2024-03-10T12:55:15.543953Z"
    },
    "collapsed": false
   },
   "outputs": [],
   "source": [
    "# Transform loader to pages \n",
    "loader = PyPDFLoader(\"pdfs/10.1002@bscb.19810900913.pdf\")\n",
    "pages = loader.load_and_split()"
   ]
  },
  {
   "cell_type": "code",
   "execution_count": 6,
   "id": "f849b800754afeb6",
   "metadata": {
    "ExecuteTime": {
     "end_time": "2024-03-10T12:55:18.511195Z",
     "start_time": "2024-03-10T12:55:17.535856Z"
    },
    "collapsed": false
   },
   "outputs": [],
   "source": [
    "embeddings = OpenAIEmbeddings(openai_api_key=os.environ[\"OPENAI_API_KEY\"])\n",
    "faiss = FAISS.from_documents(pages, embeddings)"
   ]
  },
  {
   "cell_type": "code",
   "execution_count": 8,
   "id": "22522ededb137350",
   "metadata": {
    "ExecuteTime": {
     "end_time": "2024-03-10T12:55:23.661420Z",
     "start_time": "2024-03-10T12:55:23.334663Z"
    },
    "collapsed": false
   },
   "outputs": [
    {
     "name": "stdout",
     "output_type": "stream",
     "text": [
      "3\n"
     ]
    }
   ],
   "source": [
    "question = \"What is the molecule of the paper?\"\n",
    "\n",
    "docs_db = faiss.similarity_search(question, k=3)\n",
    "print(len(docs_db))"
   ]
  },
  {
   "cell_type": "code",
   "execution_count": 9,
   "id": "15ba1faa517175bd",
   "metadata": {
    "ExecuteTime": {
     "end_time": "2024-03-10T12:55:24.902686Z",
     "start_time": "2024-03-10T12:55:24.807088Z"
    },
    "collapsed": false
   },
   "outputs": [
    {
     "name": "stdout",
     "output_type": "stream",
     "text": [
      "page_content=\"seEaflrion-pf-The_-s_Te_Nl-lc_e_T~Te_s_ \\n103 mg of the steryl acetates were chromatographed several times on columns \\nof silica gel impregnated with 15% AgN03 using a gradient elution of benzene \\n(from 3 to 50%) in hexane). Eluted fractions were monitored by GC analysis. \\nCombined fractions were finally purified by preparative tlc (eluent : hexane- \\nbenzene 1:l) : the silica band corresponding to Rf 0.4 to 0.6 was extracted by \\na 1:l mixture of CHC13 and AcOEt. This yielded 3 mg of 2-1 (IIIb), 77 mg Of 2-2 \\n(In) and 8 mg Of 2-3 (Vb). \\nCompound IIIb : : 95% pure, RRT = 1.00, co-chromatographs with authentic \\n6 \\n: 1730, 1640, 1250 and 895 IIIb. : M+-60 = 368, 353 (368-CH;) ,... \\nCompound IV b : : 98% pure, RRT = 1.31. m.p. = 133-1340 (lit. 134-1350) . \\n[alD = -42.80 (lit. -46.7?)6. \\ncm-'. !g = M+-60 = 380, 365 (380-CH3), 296 (Mac Lafferty from \\n380), 281, 255, 253 (380-side chain + 2H), 228 and 213. 'H NMR \\n(CDC13) : 0.65 (3H s C-18) - 0.95 (3H d J=6.5 HZ C-21) - 0.97 \\n(6H d J=7.0 HZ C-26,27) - 0.98 (3H S C-19) - 1.97 (3H S OAC) - \\n4.58 (1H m 3aH) - 4.68 and 4.72 (1H each bs =Ci2) and 5.34 Dpm \\n(1H m ~Cfi). \\\\ \\nCompound Vb : : 93% pure, RRT = 1.50. m.p. = 130.5-132.50 (after only one \\ncrystallization from methanol-ether). lalD = +27.60 (c = 0.70 \\nin CHC13). : 1720, 1635, 1260 and 895 cm-'. : M+ = 456 \\n(1, C31H5202), 441 (3, M+-CH3), 381 (6, M+-CH3 and CH3COOH), \\n372 (37, M+-C6H12, Mac Lafferty rearrangement), 358 (8, 372-CH3) I \\n329 (13, M+-side chain + 2H). 312 (4, 372-AcOH), 297 (8, 372 - \\nAcOH and CH3), 269 (11, 329-AcOH), 255 (s), 243 (9), 229 128) \\nand 215 (13). 'H NMR (CDC13) : 0.64 (3H s C-18) - 0.80 (3H d \\nJ=6.4 HZ 4aMe) - 0.84 (3H S C-19) 0.94 (3H d 556.2 HZ C-21) - \\n1.03 (6H d J=7.0 Hz C-26,27) - 2.03 (3H 8 OAC) - 4.36 (1H m \\n3aH) - 4.62 and 4.69 ppm (1H each bs =Cfi2) : H NMR (Py) : \\n0.63 (3H 8 C-18) - 0.78 (3H s C-19)- 0.83 (3H d J=6.4 HZ \\n4aMe) - 0.97 (3H d 5~6.2 HZ C-21) - 1.06 (6H d J=7.0 HZ \\nC-26,27) - 2.06 (3H s OAc) - 4.55 (1H m 3aH) and overlapDed \\nby the water peak 4.80 ppm (=Cfi2). 1 \\nACKNOWLEDGEMENTS \\nWe thank Mr A.M. SOLE CAVA for the identification of the zoanthid, Prof. \\nP.M. BAKER (Nilcleo de Pesquisas de Produtos Naturais, Universidade Federal do \\nRio de Janeiro, BRAZIL) for recording the mass and NMR spectra of Vb, and the \\nConselho Nacional de Desenvolvimento CientXfico e TecnolUqico (CNPq). \\nREFERENCES \\n1. Previous papers in this series : a) part I : A. KELECOM 6 G.J. KANNENGIESSER, \\nAn. Acad. bras. CiCnc. 51, 633 (1979) ; b) part I1 : A. KELECOM 6 G.J. \\nKANNENGIESSER, An. Acad. bras. CiBnc. 2, 639 (1979) ; c) part I11 : A. KE- \\nLECOM, G.J. KANNENGIESSER 6 P.M. BAKER, An. Acad. bras. Cignc. 2, 643 \\n(1979) : d) part IV : A. KELECOM, A.M. SOLE CAVA 6 G.J. KANNENGIESSER, \\n- 975 -\" metadata={'source': 'pdfs/10.1002@bscb.19810900913.pdf', 'page': 4}\n"
     ]
    }
   ],
   "source": [
    "print(docs_db[1])"
   ]
  },
  {
   "cell_type": "code",
   "execution_count": 10,
   "id": "d620ec3cf530713f",
   "metadata": {
    "ExecuteTime": {
     "end_time": "2024-03-10T12:55:28.212866Z",
     "start_time": "2024-03-10T12:55:28.205200Z"
    },
    "collapsed": false
   },
   "outputs": [
    {
     "data": {
      "text/plain": [
       "['__add__',\n",
       " '__class__',\n",
       " '__class_getitem__',\n",
       " '__contains__',\n",
       " '__delattr__',\n",
       " '__delitem__',\n",
       " '__dir__',\n",
       " '__doc__',\n",
       " '__eq__',\n",
       " '__format__',\n",
       " '__ge__',\n",
       " '__getattribute__',\n",
       " '__getitem__',\n",
       " '__gt__',\n",
       " '__hash__',\n",
       " '__iadd__',\n",
       " '__imul__',\n",
       " '__init__',\n",
       " '__init_subclass__',\n",
       " '__iter__',\n",
       " '__le__',\n",
       " '__len__',\n",
       " '__lt__',\n",
       " '__mul__',\n",
       " '__ne__',\n",
       " '__new__',\n",
       " '__reduce__',\n",
       " '__reduce_ex__',\n",
       " '__repr__',\n",
       " '__reversed__',\n",
       " '__rmul__',\n",
       " '__setattr__',\n",
       " '__setitem__',\n",
       " '__sizeof__',\n",
       " '__str__',\n",
       " '__subclasshook__',\n",
       " 'append',\n",
       " 'clear',\n",
       " 'copy',\n",
       " 'count',\n",
       " 'extend',\n",
       " 'index',\n",
       " 'insert',\n",
       " 'pop',\n",
       " 'remove',\n",
       " 'reverse',\n",
       " 'sort']"
      ]
     },
     "execution_count": 10,
     "metadata": {},
     "output_type": "execute_result"
    }
   ],
   "source": [
    "dir(docs_db)"
   ]
  },
  {
   "cell_type": "code",
   "execution_count": 14,
   "id": "d49c6f3650860c",
   "metadata": {
    "collapsed": false,
    "ExecuteTime": {
     "end_time": "2024-03-10T13:03:31.625229Z",
     "start_time": "2024-03-10T13:03:09.596284Z"
    }
   },
   "outputs": [
    {
     "name": "stdout",
     "output_type": "stream",
     "text": [
      "{\n",
      "    \"MeltingPoint\": {\n",
      "        \"Instrument\": \"Büchi SMP-20\",\n",
      "        \"CorrectionStatus\": \"uncorrected\"\n",
      "    },\n",
      "    \"OpticalRotation\": {\n",
      "        \"Instrument\": \"Perkin-Elmer 241 Polarimeter\",\n",
      "        \"MeasurementWavelength_nm\": 259,\n",
      "        \"Solvent\": \"CHCl3\"\n",
      "    },\n",
      "    \"IR_Spectra\": {\n",
      "        \"Instrument\": \"Perkin-Elmer 7358 Spectrophotometer\",\n",
      "        \"Solvent\": \"CHCl3\"\n",
      "    },\n",
      "    \"MassSpectrometry\": {\n",
      "        \"Instrument\": \"Micromass MM12F\",\n",
      "        \"Detail\": \"Fragment intensities are expressed as percentages of the base peak\"\n",
      "    },\n",
      "    \"NMR_Spectra\": {\n",
      "        \"Instruments\": [\n",
      "            \"Varian XL-100\",\n",
      "            \"Varian EM 390\"\n",
      "        ],\n",
      "        \"EquippedWith\": \"Varian 3930 Spin Decoupler System\",\n",
      "        \"Solvent\": \"CDCl3\",\n",
      "        \"InternalReference\": \"TMS\",\n",
      "        \"ShiftScale\": \"δ\",\n",
      "        \"ShiftAbbreviations\": {\n",
      "            \"b\": \"broad\",\n",
      "            \"d\": \"doublet\",\n",
      "            \"m\": \"multiplet\",\n",
      "            \"s\": \"singlet\"\n",
      "        }\n",
      "    },\n",
      "    \"GasChromatography\": {\n",
      "        \"Instrument\": \"Varian 2440\",\n",
      "        \"Detector\": \"FID\",\n",
      "        \"Column\": {\n",
      "            \"Dimensions\": \"7' x 1/8\\\"\",\n",
      "            \"Packing\": \"3% OV-17 on Varaport 30\"\n",
      "        },\n",
      "        \"OperatingMode\": \"isothermal\",\n",
      "        \"Temperature_Celsius\": 290\n",
      "    },\n",
      "    \"ColumnChromatography\": {\n",
      "        \"Adsorbent\": \"E. Merck Kieselgel 60\",\n",
      "        \"ParticleSizeRange_mesh\": \"70-230\"\n",
      "    },\n",
      "    \"ThinLayerChromatography\": {\n",
      "        \"Plates\": \"E. Merck Kieselgel 60 F 254\",\n",
      "        \"RevealingMethod\": \"3% ethanolic phosphomolybdic acid solution\",\n",
      "        \"HeatingTemperature_Celsius\": 150\n",
      "    },\n",
      "    \"SampleCollection\": {\n",
      "        \"Location\": \"Cabo Frio, State of Rio de Janeiro\",\n",
      "        \"Date\": \"May 1980\",\n",
      "        \"Depth_m\": 1\n",
      "    },\n",
      "    \"SampleStorage\": \"70% Ethanol\",\n",
      "    \"ExtractionProcess\": {\n",
      "        \"SequentialSolvents\": [\n",
      "            \"Ethanol\",\n",
      "            \"Methylene Chloride\"\n",
      "        ],\n",
      "        \"FinalResidue_Weight_g\": 6.1,\n",
      "        \"PercentageOfDryWeight\": 10.5\n",
      "    },\n",
      "    \"SterolIsolation\": {\n",
      "        \"Method\": \"Silica Gel Column Chromatography\",\n",
      "        \"Eluent\": \"Pure CH2Cl2\",\n",
      "        \"Yield_mg\": 247,\n",
      "        \"PercentageOfDryWeight\": 0.5\n",
      "    },\n",
      "    \"SterolMixtureMassSpectrometry\": {\n",
      "        \"MolecularIons_m_e\": [\n",
      "            414,\n",
      "            398,\n",
      "            386\n",
      "        ],\n",
      "        \"CharacteristicFragmentIons_m_e\": [\n",
      "            330,\n",
      "            314,\n",
      "            299,\n",
      "            296,\n",
      "            287,\n",
      "            271,\n",
      "            255,\n",
      "            229\n",
      "        ],\n",
      "        \"DiagnosisPeakForZoanthosterol_m_e\": 330\n",
      "    },\n",
      "    \"SterolMixtureDerivatization\": {\n",
      "        \"StartMaterial_mg\": 105,\n",
      "        \"Reagents\": {\n",
      "            \"AceticAnhydride_ml\": 2,\n",
      "            \"Pyridine_ml\": 2\n",
      "        },\n",
      "        \"ReactionTime_h\": 15,\n",
      "        \"Workup\": {\n",
      "            \"Quenching\": \"Distilled Water\",\n",
      "            \"QuenchingVolume_ml\": 10,\n",
      "            \"ExtractionSolvent\": \"CH2Cl2\",\n",
      "            \"FinalProduct_mg\": 110\n",
      "        }\n",
      "    },\n",
      "    \"Source\": {\n",
      "        \"Document\": \"10.1002@bscb.19810900913.pdf\",\n",
      "        \"Page\": 3\n",
      "    }\n",
      "}"
     ]
    }
   ],
   "source": [
    "from openai import OpenAI\n",
    "\n",
    "client = OpenAI()\n",
    "\n",
    "client.api_key = os.environ[\"OPENAI_API_KEY\"]\n",
    "stream = client.chat.completions.create(\n",
    "    messages=[{\"role\": \"system\",\n",
    "               \"content\": \"You are a chemist expert in natural products. You give the answer in JSON format. Answer user's questions utilizing your background knowledge or the information given below\"},\n",
    "              {\"role\": \"user\", \"content\": str(docs_db[0])}],\n",
    "    stream=True,\n",
    "    response_format={\"type\": \"json_object\"},\n",
    "    model = \"gpt-4-1106-preview\",\n",
    ")\n",
    "\n",
    "for chunk in stream:\n",
    "    print(chunk.choices[0].delta.content or \"\", end=\"\")"
   ]
  },
  {
   "cell_type": "code",
   "execution_count": 12,
   "id": "5842d73a8526fa7e",
   "metadata": {
    "ExecuteTime": {
     "end_time": "2024-03-10T12:55:36.907940Z",
     "start_time": "2024-03-10T12:55:36.859321Z"
    },
    "collapsed": false
   },
   "outputs": [
    {
     "ename": "NameError",
     "evalue": "name 'stream' is not defined",
     "output_type": "error",
     "traceback": [
      "\u001B[0;31m---------------------------------------------------------------------------\u001B[0m",
      "\u001B[0;31mNameError\u001B[0m                                 Traceback (most recent call last)",
      "Cell \u001B[0;32mIn[12], line 1\u001B[0m\n\u001B[0;32m----> 1\u001B[0m \u001B[38;5;28mprint\u001B[39m(\u001B[43mstream\u001B[49m\u001B[38;5;241m.\u001B[39mresponse\u001B[38;5;241m.\u001B[39mread()\u001B[38;5;241m.\u001B[39mjson(\n\u001B[1;32m      2\u001B[0m ))\n",
      "\u001B[0;31mNameError\u001B[0m: name 'stream' is not defined"
     ]
    }
   ],
   "source": [
    "\n",
    "print(stream.response.read().json(\n",
    "))"
   ]
  },
  {
   "cell_type": "code",
   "execution_count": 53,
   "id": "a8e5594964c743e0",
   "metadata": {
    "ExecuteTime": {
     "end_time": "2024-03-10T11:32:16.246185Z",
     "start_time": "2024-03-10T11:32:14.752041Z"
    },
    "collapsed": false
   },
   "outputs": [],
   "source": [
    "\n"
   ]
  },
  {
   "cell_type": "code",
   "execution_count": 54,
   "id": "f3a33ca8352bd09",
   "metadata": {
    "ExecuteTime": {
     "end_time": "2024-03-10T11:37:45.032712Z",
     "start_time": "2024-03-10T11:37:44.186203Z"
    },
    "collapsed": false
   },
   "outputs": [],
   "source": [
    "# nbstripout is a tool to remove the output from Jupyter notebooks\n",
    "!nbstripout --install"
   ]
  },
  {
   "cell_type": "code",
   "execution_count": null,
   "id": "23beac5efb5df9d5",
   "metadata": {
    "collapsed": false
   },
   "outputs": [],
   "source": []
  }
 ],
 "metadata": {
  "kernelspec": {
   "display_name": "Python 3 (ipykernel)",
   "language": "python",
   "name": "python3"
  },
  "language_info": {
   "codemirror_mode": {
    "name": "ipython",
    "version": 3
   },
   "file_extension": ".py",
   "mimetype": "text/x-python",
   "name": "python",
   "nbconvert_exporter": "python",
   "pygments_lexer": "ipython3",
   "version": "3.9.6"
  }
 },
 "nbformat": 4,
 "nbformat_minor": 5
}
