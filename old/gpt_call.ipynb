{
 "cells": [
  {
   "cell_type": "markdown",
   "id": "0",
   "metadata": {},
   "source": [
    "# GPT call"
   ]
  },
  {
   "cell_type": "code",
   "execution_count": null,
   "id": "1",
   "metadata": {},
   "outputs": [],
   "source": [
    "import os\n",
    "\n",
    "from dotenv import load_dotenv\n",
    "from langchain.document_loaders import PyPDFLoader\n",
    "from langchain.vectorstores import FAISS\n",
    "from langchain_openai import OpenAIEmbeddings\n",
    "# nbstripout is a tool to remove the output from Jupyter notebooks\n",
    "!nbstripout --install\n",
    "!export PYTHONWARNINGS=\"ignore:NotOpenSSLWarning\"\n",
    "load_dotenv()"
   ]
  },
  {
   "cell_type": "code",
   "execution_count": null,
   "id": "2",
   "metadata": {},
   "outputs": [],
   "source": [
    "from openai import OpenAI\n",
    "\n",
    "def call_openai_api(path):\n",
    "    loader = PyPDFLoader(path)\n",
    "    pages = loader.load_and_split()\n",
    "    embeddings = OpenAIEmbeddings(openai_api_key=os.environ[\"OPENAI_API_KEY\"])\n",
    "    faiss = FAISS.from_documents(pages, embeddings)\n",
    "    question = \"What is the molecule of the paper?\"\n",
    "    docs_db = faiss.similarity_search(question, k=3)\n",
    "    client = OpenAI()\n",
    "    client.api_key = os.environ[\"OPENAI_API_KEY\"]\n",
    "    return client.chat.completions.create(\n",
    "        messages=[{\"role\": \"system\",\n",
    "                   \"content\": \"You are a chemist expert in natural products. You give the answer in JSON format: [{\\\"compoundName\\\": \\\"Example Compound Name\\\", \\\"bioactivity\\\": \\\"Example Bioactivity\\\", \\\"species\\\": \\\"Example Species\\\", \\\"collectionSite\\\": \\\"Example Collection Site\\\", \\\"isolationType\\\": \\\"Example Isolation Type\\\"}]. Answer user's questions utilizing your background knowledge or the information given below if its not specified leave it empty like \\\"\\\"\"},\n",
    "                  {\"role\": \"user\", \"content\": str(docs_db[0])}],\n",
    "        stream=True,\n",
    "        response_format={\"type\": \"json_object\"},\n",
    "        model=\"gpt-4-1106-preview\",\n",
    "    )\n",
    "\n",
    "stream = call_openai_api(\"pdfs/10.1002@bscb.19810900913.pdf\")\n",
    "for chunk in stream:\n",
    "    print(chunk.choices[0].delta.content or \"\", end=\"\")"
   ]
  }
 ],
 "metadata": {
  "kernelspec": {
   "display_name": "Python 3 (ipykernel)",
   "language": "python",
   "name": "python3"
  },
  "language_info": {
   "codemirror_mode": {
    "name": "ipython",
    "version": 3
   },
   "file_extension": ".py",
   "mimetype": "text/x-python",
   "name": "python",
   "nbconvert_exporter": "python",
   "pygments_lexer": "ipython3",
   "version": "3.9.6"
  }
 },
 "nbformat": 4,
 "nbformat_minor": 5
}
