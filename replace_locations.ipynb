{
 "cells": [
  {
   "cell_type": "code",
   "execution_count": 7,
   "metadata": {},
   "outputs": [],
   "source": [
    "import csv\n",
    "import json\n",
    "\n",
    "# Path to the input CSV file\n",
    "csv_file_path = 'consolidated_output_full.csv'\n",
    "# Path to the output JSON file\n",
    "output_json_file_path = 'output_labels_locations.json'\n",
    "\n",
    "# Function to extract IUPAC nomenclature and locations and save to JSON\n",
    "def extract_and_save_to_json(input_csv_path, output_json_path):\n",
    "    data = []\n",
    "    with open(input_csv_path, mode='r', encoding='utf-8') as file:\n",
    "        reader = csv.DictReader(file)\n",
    "        for row in reader:\n",
    "            try:\n",
    "                output = json.loads(row['output'])\n",
    "                for molecule_key, molecule_data in output.items():\n",
    "                    # Ensure molecule_data is a dictionary\n",
    "                    if isinstance(molecule_data, str):\n",
    "                        molecule_data = json.loads(molecule_data)\n",
    "                    iupac_nomenclature = molecule_data.get('IUPAC_nomenclature', '')\n",
    "                    collection_site = molecule_data.get('collectionSite', '')\n",
    "                    data.append({'IUPAC Nomenclature': iupac_nomenclature, 'Collection Site': collection_site})\n",
    "            except json.JSONDecodeError as e:\n",
    "                print(f\"Error decoding JSON for row: {row['pdf']}\")\n",
    "                print(f\"Error message: {str(e)}\")\n",
    "                continue\n",
    "    \n",
    "    with open(output_json_file_path, 'w', encoding='utf-8') as jsonfile:\n",
    "        json.dump(data, jsonfile, indent=4)\n",
    "\n",
    "# Execute the function\n",
    "extract_and_save_to_json(csv_file_path, output_json_file_path)"
   ]
  }
 ],
 "metadata": {
  "kernelspec": {
   "display_name": "Python 3",
   "language": "python",
   "name": "python3"
  },
  "language_info": {
   "codemirror_mode": {
    "name": "ipython",
    "version": 3
   },
   "file_extension": ".py",
   "mimetype": "text/x-python",
   "name": "python",
   "nbconvert_exporter": "python",
   "pygments_lexer": "ipython3",
   "version": "3.11.9"
  }
 },
 "nbformat": 4,
 "nbformat_minor": 2
}
